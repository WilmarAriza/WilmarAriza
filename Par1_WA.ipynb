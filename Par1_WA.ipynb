{
  "nbformat": 4,
  "nbformat_minor": 0,
  "metadata": {
    "kernelspec": {
      "display_name": "Python 3",
      "language": "python",
      "name": "python3"
    },
    "language_info": {
      "codemirror_mode": {
        "name": "ipython",
        "version": 3
      },
      "file_extension": ".py",
      "mimetype": "text/x-python",
      "name": "python",
      "nbconvert_exporter": "python",
      "pygments_lexer": "ipython3",
      "version": "3.8.5"
    },
    "colab": {
      "name": "Par1_WA.ipynb",
      "provenance": [],
      "include_colab_link": true
    }
  },
  "cells": [
    {
      "cell_type": "markdown",
      "metadata": {
        "id": "view-in-github",
        "colab_type": "text"
      },
      "source": [
        "<a href=\"https://colab.research.google.com/github/WilmarAriza/WilmarAriza/blob/main/Par1_WA.ipynb\" target=\"_parent\"><img src=\"https://colab.research.google.com/assets/colab-badge.svg\" alt=\"Open In Colab\"/></a>"
      ]
    },
    {
      "cell_type": "markdown",
      "metadata": {
        "id": "Y0Tk6DWNM1dy"
      },
      "source": [
        "6.86x Intro de ML Packages Part 1"
      ]
    },
    {
      "cell_type": "markdown",
      "metadata": {
        "id": "T4LJ6Cm5M1d8"
      },
      "source": [
        "FIRST SECTION = Jupyter: browser front-end"
      ]
    },
    {
      "cell_type": "code",
      "metadata": {
        "id": "M8GSBlTyM1d9",
        "outputId": "9bfe3f2f-acef-479f-b20b-bfcbfef1cdd8"
      },
      "source": [
        "6/5"
      ],
      "execution_count": null,
      "outputs": [
        {
          "output_type": "execute_result",
          "data": {
            "text/plain": [
              "1.2"
            ]
          },
          "metadata": {
            "tags": []
          },
          "execution_count": 1
        }
      ]
    },
    {
      "cell_type": "code",
      "metadata": {
        "id": "zY3N5w6WM1eC"
      },
      "source": [
        "def tokenize(text):\n",
        "    return text.split(' ')"
      ],
      "execution_count": null,
      "outputs": []
    },
    {
      "cell_type": "code",
      "metadata": {
        "id": "2FwZ3gk3M1eE",
        "outputId": "770b9543-6113-40d6-8d17-c7f00933492a"
      },
      "source": [
        "text = 'This is a test of my function'\n",
        "print(tokenize(text))"
      ],
      "execution_count": null,
      "outputs": [
        {
          "output_type": "stream",
          "text": [
            "['This', 'is', 'a', 'test', 'of', 'my', 'function']\n"
          ],
          "name": "stdout"
        }
      ]
    },
    {
      "cell_type": "markdown",
      "metadata": {
        "id": "UmkQLCp9M1eE"
      },
      "source": [
        "Notice the function return a list!"
      ]
    },
    {
      "cell_type": "markdown",
      "metadata": {
        "id": "l1dSmFVSM1eF"
      },
      "source": [
        "SECOND SECTION = Numpy: to handle large multidimensional arrays"
      ]
    },
    {
      "cell_type": "code",
      "metadata": {
        "id": "Ze2JS0zSM1eG"
      },
      "source": [
        "import numpy as np"
      ],
      "execution_count": null,
      "outputs": []
    },
    {
      "cell_type": "markdown",
      "metadata": {
        "id": "-ioT06-RM1eG"
      },
      "source": [
        "1. Indexing and slicing"
      ]
    },
    {
      "cell_type": "code",
      "metadata": {
        "id": "w5J7D5vIM1eH"
      },
      "source": [
        "a_py = [1, 2, 3, 4, 5, 6, 7, 8, 9]\n",
        "a_np = np.array(a_py)"
      ],
      "execution_count": null,
      "outputs": []
    },
    {
      "cell_type": "code",
      "metadata": {
        "id": "W9w-sr20M1eI",
        "outputId": "3d7ccebe-e1b1-4049-eb95-d3b1b8b35027"
      },
      "source": [
        "print(a_py[3:7:2], a_np[3:7:2])"
      ],
      "execution_count": null,
      "outputs": [
        {
          "output_type": "stream",
          "text": [
            "[4, 6] [4 6]\n"
          ],
          "name": "stdout"
        }
      ]
    },
    {
      "cell_type": "markdown",
      "metadata": {
        "id": "YcE_jkLDM1eK"
      },
      "source": [
        "Notice: a list, and a Numpy array"
      ]
    },
    {
      "cell_type": "code",
      "metadata": {
        "id": "ZwmwioXNM1eK",
        "outputId": "6eb9ef43-55d0-46a7-8f8e-00d58163f986"
      },
      "source": [
        "print(a_py[2:-1:2], a_np[2:-1:2])\n",
        "print(a_py[::-1], a_np[::-1])"
      ],
      "execution_count": null,
      "outputs": [
        {
          "output_type": "stream",
          "text": [
            "[3, 5, 7] [3 5 7]\n",
            "[9, 8, 7, 6, 5, 4, 3, 2, 1] [9 8 7 6 5 4 3 2 1]\n"
          ],
          "name": "stdout"
        }
      ]
    },
    {
      "cell_type": "markdown",
      "metadata": {
        "id": "rIQXT4hDM1eK"
      },
      "source": [
        "But can use arrays to index other arrays"
      ]
    },
    {
      "cell_type": "code",
      "metadata": {
        "id": "MbixS7WDM1eK",
        "outputId": "50d35c55-37c6-4aec-c4fd-a4ebff2a3daa"
      },
      "source": [
        "idx = np.array([7,2,0])\n",
        "a_np[idx]"
      ],
      "execution_count": null,
      "outputs": [
        {
          "output_type": "execute_result",
          "data": {
            "text/plain": [
              "array([8, 3, 1])"
            ]
          },
          "metadata": {
            "tags": []
          },
          "execution_count": 17
        }
      ]
    },
    {
      "cell_type": "markdown",
      "metadata": {
        "id": "gEbPiOoXM1eL"
      },
      "source": [
        "a_np[idx], allows convenient querying, reindexing and sorting"
      ]
    },
    {
      "cell_type": "code",
      "metadata": {
        "id": "kPOBPDEQM1eL",
        "outputId": "7717ba2c-7a81-450d-8579-d33c99d603f1"
      },
      "source": [
        "ages = np.random.randint(low=30, high=60, size=10)\n",
        "heights = np.random.randint(low=150, high=210, size=10)\n",
        "\n",
        "print(ages)\n",
        "print(heights)"
      ],
      "execution_count": null,
      "outputs": [
        {
          "output_type": "stream",
          "text": [
            "[54 39 47 44 40 48 32 50 51 40]\n",
            "[186 167 179 189 201 150 152 162 164 162]\n"
          ],
          "name": "stdout"
        }
      ]
    },
    {
      "cell_type": "code",
      "metadata": {
        "id": "4TDQhMFoM1eM",
        "outputId": "a376cb8d-a371-4589-d5ba-caba2661d70c"
      },
      "source": [
        "print(ages < 45)"
      ],
      "execution_count": null,
      "outputs": [
        {
          "output_type": "stream",
          "text": [
            "[False  True False  True  True False  True False False  True]\n"
          ],
          "name": "stdout"
        }
      ]
    },
    {
      "cell_type": "markdown",
      "metadata": {
        "id": "9iWRkZcjM1eM"
      },
      "source": [
        "It is a boolean!"
      ]
    },
    {
      "cell_type": "code",
      "metadata": {
        "id": "Ms0Bx8qbM1eN",
        "outputId": "fa666540-07b3-44da-b224-2601b511aed9"
      },
      "source": [
        "print(heights[ages < 45])\n",
        "print(ages[ages < 45])"
      ],
      "execution_count": null,
      "outputs": [
        {
          "output_type": "stream",
          "text": [
            "[167 189 201 152 162]\n",
            "[39 44 40 32 40]\n"
          ],
          "name": "stdout"
        }
      ]
    },
    {
      "cell_type": "markdown",
      "metadata": {
        "id": "CGkFzdo5M1eO"
      },
      "source": [
        "Filter the arrays with the boolean."
      ]
    },
    {
      "cell_type": "code",
      "metadata": {
        "id": "p_b83GKXM1eO",
        "outputId": "263ed68c-69ff-4516-f6cd-a101cb0c7b15"
      },
      "source": [
        "shuffled_idx = np.random.permutation(10)\n",
        "print(shuffled_idx)\n",
        "print(ages[shuffled_idx])\n",
        "print(heights[shuffled_idx])"
      ],
      "execution_count": null,
      "outputs": [
        {
          "output_type": "stream",
          "text": [
            "[9 0 1 8 4 6 2 3 7 5]\n",
            "[40 54 39 51 40 32 47 44 50 48]\n",
            "[162 186 167 164 201 152 179 189 162 150]\n"
          ],
          "name": "stdout"
        }
      ]
    },
    {
      "cell_type": "code",
      "metadata": {
        "id": "WXGn_8LpM1eO",
        "outputId": "a2cddd0a-3779-4401-d15c-c11af6034d37"
      },
      "source": [
        "sorted_idx = np.argsort(ages)\n",
        "print(sorted_idx)\n",
        "print(ages[sorted_idx])\n",
        "print(heights[sorted_idx])"
      ],
      "execution_count": null,
      "outputs": [
        {
          "output_type": "stream",
          "text": [
            "[6 1 4 9 3 2 5 7 8 0]\n",
            "[32 39 40 40 44 47 48 50 51 54]\n",
            "[152 167 201 162 189 179 150 162 164 186]\n"
          ],
          "name": "stdout"
        }
      ]
    },
    {
      "cell_type": "markdown",
      "metadata": {
        "id": "bWlbo8zlM1eQ"
      },
      "source": [
        "Same result as np.random.permutation"
      ]
    },
    {
      "cell_type": "markdown",
      "metadata": {
        "id": "fiKdAnqSM1eR"
      },
      "source": [
        "2. broadcasting: operations between arrays of different sizes"
      ]
    },
    {
      "cell_type": "code",
      "metadata": {
        "id": "c_0FvfWWM1eS"
      },
      "source": [
        ""
      ],
      "execution_count": null,
      "outputs": []
    }
  ]
}